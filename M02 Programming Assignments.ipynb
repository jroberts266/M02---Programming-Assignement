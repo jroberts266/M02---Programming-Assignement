{
 "cells": [
  {
   "cell_type": "code",
   "execution_count": 1,
   "id": "3216cb54",
   "metadata": {},
   "outputs": [
    {
     "name": "stdout",
     "output_type": "stream",
     "text": [
      "Enter a number between 1 and 10: 5\n",
      "too low\n"
     ]
    }
   ],
   "source": [
    "# M02 - 4.1 Assignment\n",
    "# author: jdr\n",
    "# created: 2023-01-22\n",
    "# number guessing game\n",
    "\n",
    "secret = 7 # Assigns number 7 to secret variable\n",
    "guess = int(input(\"Enter a number between 1 and 10: \")) # Gets users guess number from input an assigns to guess variable\n",
    "# If statement to give user hints based on guess number\n",
    "if guess == secret: \n",
    "    print(\"just right\")\n",
    "elif guess < secret:\n",
    "    print(\"too low\")\n",
    "elif guess > secret:\n",
    "    print (\"too high\")"
   ]
  },
  {
   "cell_type": "code",
   "execution_count": 2,
   "id": "f2a4e78e",
   "metadata": {},
   "outputs": [
    {
     "name": "stdout",
     "output_type": "stream",
     "text": [
      "It's a pumpkin\n"
     ]
    }
   ],
   "source": [
    "# M02 - 4.2 Assignment \n",
    "# author: jdr\n",
    "# created: 2023-01-22\n",
    "# truth table experiement\n",
    "\n",
    "small = False\n",
    "green = False\n",
    "if green:\n",
    "    if small:\n",
    "        print(\"It's a pea\")\n",
    "    else:\n",
    "        print(\"It's a watermelon\")\n",
    "else:\n",
    "    if small:\n",
    "        print(\"It's a cherry\")\n",
    "    else:\n",
    "        print(\"It's a pumpkin\")"
   ]
  },
  {
   "cell_type": "code",
   "execution_count": 3,
   "id": "48c11d03",
   "metadata": {},
   "outputs": [
    {
     "name": "stdout",
     "output_type": "stream",
     "text": [
      "3\n",
      "2\n",
      "1\n",
      "0\n"
     ]
    }
   ],
   "source": [
    "# M02 - 6.1 Assignment\n",
    "# author: jdr\n",
    "# created: 2023-01-22\n",
    "# prints numbers in list with for loop\n",
    "\n",
    "numbers = [3, 2, 1, 0] # assigns values in list to variable numbers\n",
    "for x in numbers:  # loops through numbers list\n",
    "    print(x)"
   ]
  },
  {
   "cell_type": "code",
   "execution_count": 4,
   "id": "ff295494",
   "metadata": {},
   "outputs": [
    {
     "name": "stdout",
     "output_type": "stream",
     "text": [
      "too low\n",
      "too low\n",
      "found it!\n"
     ]
    }
   ],
   "source": [
    "# M02 - 6.2 Assignment\n",
    "# author: jdr\n",
    "# created: 2023-01-22\n",
    "# while loop that iterates itself each time through loop\n",
    "\n",
    "guess_me = 7 # assigns 7 to the variable guess_me\n",
    "number = 1 # assigns 1 to the variable number\n",
    "while number != guess_me: # Creates loop that continues while number does not equal guess_me\n",
    "    number += 2 # number variable is iterated by the value assigned in each loop. Can be change for different prints\n",
    "    if number < guess_me:\n",
    "        print(\"too low\")\n",
    "    elif number == guess_me:\n",
    "        print(\"found it!\")\n",
    "        break\n",
    "    elif number > guess_me:\n",
    "        print(\"oops\")\n",
    "        break\n",
    "    "
   ]
  },
  {
   "cell_type": "code",
   "execution_count": 5,
   "id": "806210b0",
   "metadata": {},
   "outputs": [
    {
     "name": "stdout",
     "output_type": "stream",
     "text": [
      "too low\n",
      "too low\n",
      "too low\n",
      "found it\n"
     ]
    }
   ],
   "source": [
    "# M02 - 6.3 Assignment\n",
    "# author: jdr\n",
    "# created: 2023-01-22\n",
    "# for loop that iterates itself each time through loop\n",
    "\n",
    "guess_me = 5 # assigns value to guess_me variable\n",
    "number = 1 # assigns value to number variabe\n",
    "for x in range(10): # creats for loop that loops 10 times and iterates number variable by set amount\n",
    "    number += 1 # interates number variable\n",
    "    if number < guess_me:\n",
    "        print(\"too low\")\n",
    "    elif number == guess_me:\n",
    "        print(\"found it\")\n",
    "        break\n",
    "    elif number > guess_me:\n",
    "        print(\"oops\")\n",
    "        break\n"
   ]
  },
  {
   "cell_type": "code",
   "execution_count": null,
   "id": "6a3cdc0e",
   "metadata": {},
   "outputs": [],
   "source": []
  }
 ],
 "metadata": {
  "kernelspec": {
   "display_name": "Python 3 (ipykernel)",
   "language": "python",
   "name": "python3"
  },
  "language_info": {
   "codemirror_mode": {
    "name": "ipython",
    "version": 3
   },
   "file_extension": ".py",
   "mimetype": "text/x-python",
   "name": "python",
   "nbconvert_exporter": "python",
   "pygments_lexer": "ipython3",
   "version": "3.9.13"
  }
 },
 "nbformat": 4,
 "nbformat_minor": 5
}
